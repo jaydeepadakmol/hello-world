{
 "cells": [
  {
   "cell_type": "code",
   "execution_count": 1,
   "id": "fe2b8273",
   "metadata": {},
   "outputs": [
    {
     "name": "stderr",
     "output_type": "stream",
     "text": [
      "[nltk_data] Downloading package punkt to\n",
      "[nltk_data]     C:\\Users\\harsh\\AppData\\Roaming\\nltk_data...\n",
      "[nltk_data]   Package punkt is already up-to-date!\n"
     ]
    }
   ],
   "source": [
    "import nltk\n",
    "nltk.download('punkt')\n",
    "import nltk.corpus\n",
    "from nltk.tokenize import word_tokenize"
   ]
  },
  {
   "cell_type": "code",
   "execution_count": 2,
   "id": "645bfd19",
   "metadata": {},
   "outputs": [],
   "source": [
    "sample = \"The theory of relativity usually encompasses two interrelated theories by Albert Einstein: special relativity and general relativity, proposed and published in 1905 and 1915, respectively. Special relativity applies to all physical phenomena in the absence of gravity. General relativity explains the law of\""
   ]
  },
  {
   "cell_type": "code",
   "execution_count": 3,
   "id": "8fff8627",
   "metadata": {},
   "outputs": [
    {
     "data": {
      "text/plain": [
       "['The',\n",
       " 'theory',\n",
       " 'of',\n",
       " 'relativity',\n",
       " 'usually',\n",
       " 'encompasses',\n",
       " 'two',\n",
       " 'interrelated',\n",
       " 'theories',\n",
       " 'by']"
      ]
     },
     "execution_count": 3,
     "metadata": {},
     "output_type": "execute_result"
    }
   ],
   "source": [
    "sample_tokens = word_tokenize(sample)\n",
    "sample_tokens[:10]"
   ]
  },
  {
   "cell_type": "code",
   "execution_count": 4,
   "id": "7a40a0f6",
   "metadata": {},
   "outputs": [
    {
     "data": {
      "text/plain": [
       "[('The', 'theory'),\n",
       " ('theory', 'of'),\n",
       " ('of', 'relativity'),\n",
       " ('relativity', 'usually'),\n",
       " ('usually', 'encompasses'),\n",
       " ('encompasses', 'two'),\n",
       " ('two', 'interrelated'),\n",
       " ('interrelated', 'theories'),\n",
       " ('theories', 'by'),\n",
       " ('by', 'Albert'),\n",
       " ('Albert', 'Einstein'),\n",
       " ('Einstein', ':'),\n",
       " (':', 'special'),\n",
       " ('special', 'relativity'),\n",
       " ('relativity', 'and'),\n",
       " ('and', 'general'),\n",
       " ('general', 'relativity'),\n",
       " ('relativity', ','),\n",
       " (',', 'proposed'),\n",
       " ('proposed', 'and'),\n",
       " ('and', 'published'),\n",
       " ('published', 'in'),\n",
       " ('in', '1905'),\n",
       " ('1905', 'and'),\n",
       " ('and', '1915'),\n",
       " ('1915', ','),\n",
       " (',', 'respectively'),\n",
       " ('respectively', '.'),\n",
       " ('.', 'Special'),\n",
       " ('Special', 'relativity'),\n",
       " ('relativity', 'applies'),\n",
       " ('applies', 'to'),\n",
       " ('to', 'all'),\n",
       " ('all', 'physical'),\n",
       " ('physical', 'phenomena'),\n",
       " ('phenomena', 'in'),\n",
       " ('in', 'the'),\n",
       " ('the', 'absence'),\n",
       " ('absence', 'of'),\n",
       " ('of', 'gravity'),\n",
       " ('gravity', '.'),\n",
       " ('.', 'General'),\n",
       " ('General', 'relativity'),\n",
       " ('relativity', 'explains'),\n",
       " ('explains', 'the'),\n",
       " ('the', 'law'),\n",
       " ('law', 'of')]"
      ]
     },
     "execution_count": 4,
     "metadata": {},
     "output_type": "execute_result"
    }
   ],
   "source": [
    "list(nltk.bigrams(sample_tokens))"
   ]
  },
  {
   "cell_type": "code",
   "execution_count": 5,
   "id": "eed6a8b6",
   "metadata": {},
   "outputs": [
    {
     "data": {
      "text/plain": [
       "[('The', 'theory', 'of'),\n",
       " ('theory', 'of', 'relativity'),\n",
       " ('of', 'relativity', 'usually'),\n",
       " ('relativity', 'usually', 'encompasses'),\n",
       " ('usually', 'encompasses', 'two'),\n",
       " ('encompasses', 'two', 'interrelated'),\n",
       " ('two', 'interrelated', 'theories'),\n",
       " ('interrelated', 'theories', 'by'),\n",
       " ('theories', 'by', 'Albert'),\n",
       " ('by', 'Albert', 'Einstein'),\n",
       " ('Albert', 'Einstein', ':'),\n",
       " ('Einstein', ':', 'special'),\n",
       " (':', 'special', 'relativity'),\n",
       " ('special', 'relativity', 'and'),\n",
       " ('relativity', 'and', 'general'),\n",
       " ('and', 'general', 'relativity'),\n",
       " ('general', 'relativity', ','),\n",
       " ('relativity', ',', 'proposed'),\n",
       " (',', 'proposed', 'and'),\n",
       " ('proposed', 'and', 'published'),\n",
       " ('and', 'published', 'in'),\n",
       " ('published', 'in', '1905'),\n",
       " ('in', '1905', 'and'),\n",
       " ('1905', 'and', '1915'),\n",
       " ('and', '1915', ','),\n",
       " ('1915', ',', 'respectively'),\n",
       " (',', 'respectively', '.'),\n",
       " ('respectively', '.', 'Special'),\n",
       " ('.', 'Special', 'relativity'),\n",
       " ('Special', 'relativity', 'applies'),\n",
       " ('relativity', 'applies', 'to'),\n",
       " ('applies', 'to', 'all'),\n",
       " ('to', 'all', 'physical'),\n",
       " ('all', 'physical', 'phenomena'),\n",
       " ('physical', 'phenomena', 'in'),\n",
       " ('phenomena', 'in', 'the'),\n",
       " ('in', 'the', 'absence'),\n",
       " ('the', 'absence', 'of'),\n",
       " ('absence', 'of', 'gravity'),\n",
       " ('of', 'gravity', '.'),\n",
       " ('gravity', '.', 'General'),\n",
       " ('.', 'General', 'relativity'),\n",
       " ('General', 'relativity', 'explains'),\n",
       " ('relativity', 'explains', 'the'),\n",
       " ('explains', 'the', 'law'),\n",
       " ('the', 'law', 'of')]"
      ]
     },
     "execution_count": 5,
     "metadata": {},
     "output_type": "execute_result"
    }
   ],
   "source": [
    "list(nltk.trigrams(sample_tokens))"
   ]
  },
  {
   "cell_type": "code",
   "execution_count": 7,
   "id": "dbce821a",
   "metadata": {},
   "outputs": [
    {
     "data": {
      "text/plain": [
       "[('The', 'theory', 'of', 'relativity', 'usually'),\n",
       " ('theory', 'of', 'relativity', 'usually', 'encompasses'),\n",
       " ('of', 'relativity', 'usually', 'encompasses', 'two'),\n",
       " ('relativity', 'usually', 'encompasses', 'two', 'interrelated'),\n",
       " ('usually', 'encompasses', 'two', 'interrelated', 'theories'),\n",
       " ('encompasses', 'two', 'interrelated', 'theories', 'by'),\n",
       " ('two', 'interrelated', 'theories', 'by', 'Albert'),\n",
       " ('interrelated', 'theories', 'by', 'Albert', 'Einstein'),\n",
       " ('theories', 'by', 'Albert', 'Einstein', ':'),\n",
       " ('by', 'Albert', 'Einstein', ':', 'special'),\n",
       " ('Albert', 'Einstein', ':', 'special', 'relativity'),\n",
       " ('Einstein', ':', 'special', 'relativity', 'and'),\n",
       " (':', 'special', 'relativity', 'and', 'general'),\n",
       " ('special', 'relativity', 'and', 'general', 'relativity'),\n",
       " ('relativity', 'and', 'general', 'relativity', ','),\n",
       " ('and', 'general', 'relativity', ',', 'proposed'),\n",
       " ('general', 'relativity', ',', 'proposed', 'and'),\n",
       " ('relativity', ',', 'proposed', 'and', 'published'),\n",
       " (',', 'proposed', 'and', 'published', 'in'),\n",
       " ('proposed', 'and', 'published', 'in', '1905'),\n",
       " ('and', 'published', 'in', '1905', 'and'),\n",
       " ('published', 'in', '1905', 'and', '1915'),\n",
       " ('in', '1905', 'and', '1915', ','),\n",
       " ('1905', 'and', '1915', ',', 'respectively'),\n",
       " ('and', '1915', ',', 'respectively', '.'),\n",
       " ('1915', ',', 'respectively', '.', 'Special'),\n",
       " (',', 'respectively', '.', 'Special', 'relativity'),\n",
       " ('respectively', '.', 'Special', 'relativity', 'applies'),\n",
       " ('.', 'Special', 'relativity', 'applies', 'to'),\n",
       " ('Special', 'relativity', 'applies', 'to', 'all'),\n",
       " ('relativity', 'applies', 'to', 'all', 'physical'),\n",
       " ('applies', 'to', 'all', 'physical', 'phenomena'),\n",
       " ('to', 'all', 'physical', 'phenomena', 'in'),\n",
       " ('all', 'physical', 'phenomena', 'in', 'the'),\n",
       " ('physical', 'phenomena', 'in', 'the', 'absence'),\n",
       " ('phenomena', 'in', 'the', 'absence', 'of'),\n",
       " ('in', 'the', 'absence', 'of', 'gravity'),\n",
       " ('the', 'absence', 'of', 'gravity', '.'),\n",
       " ('absence', 'of', 'gravity', '.', 'General'),\n",
       " ('of', 'gravity', '.', 'General', 'relativity'),\n",
       " ('gravity', '.', 'General', 'relativity', 'explains'),\n",
       " ('.', 'General', 'relativity', 'explains', 'the'),\n",
       " ('General', 'relativity', 'explains', 'the', 'law'),\n",
       " ('relativity', 'explains', 'the', 'law', 'of')]"
      ]
     },
     "execution_count": 7,
     "metadata": {},
     "output_type": "execute_result"
    }
   ],
   "source": [
    "list(nltk.ngrams(sample_tokens,5))"
   ]
  },
  {
   "cell_type": "code",
   "execution_count": null,
   "id": "a6b58ea4",
   "metadata": {},
   "outputs": [],
   "source": []
  }
 ],
 "metadata": {
  "kernelspec": {
   "display_name": "Python 3 (ipykernel)",
   "language": "python",
   "name": "python3"
  },
  "language_info": {
   "codemirror_mode": {
    "name": "ipython",
    "version": 3
   },
   "file_extension": ".py",
   "mimetype": "text/x-python",
   "name": "python",
   "nbconvert_exporter": "python",
   "pygments_lexer": "ipython3",
   "version": "3.8.0"
  }
 },
 "nbformat": 4,
 "nbformat_minor": 5
}
