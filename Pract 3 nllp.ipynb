{
 "cells": [
  {
   "cell_type": "code",
   "execution_count": 1,
   "id": "17282863",
   "metadata": {},
   "outputs": [
    {
     "name": "stderr",
     "output_type": "stream",
     "text": [
      "[nltk_data] Downloading package wordnet to\n",
      "[nltk_data]     C:\\Users\\harsh\\AppData\\Roaming\\nltk_data...\n",
      "[nltk_data]   Package wordnet is already up-to-date!\n",
      "[nltk_data] Downloading package punkt to\n",
      "[nltk_data]     C:\\Users\\harsh\\AppData\\Roaming\\nltk_data...\n",
      "[nltk_data]   Package punkt is already up-to-date!\n",
      "[nltk_data] Downloading package averaged_perceptron_tagger to\n",
      "[nltk_data]     C:\\Users\\harsh\\AppData\\Roaming\\nltk_data...\n",
      "[nltk_data]   Package averaged_perceptron_tagger is already up-to-\n",
      "[nltk_data]       date!\n"
     ]
    }
   ],
   "source": [
    "import nltk\n",
    "nltk.download('wordnet')\n",
    "nltk.download('punkt')\n",
    "nltk.download('averaged_perceptron_tagger')\n",
    "from nltk.tokenize import word_tokenize"
   ]
  },
  {
   "cell_type": "code",
   "execution_count": 2,
   "id": "b408a713",
   "metadata": {},
   "outputs": [],
   "source": [
    "sample = \"The theory of relativity usually encompasses two interrelated theories by Albert Einstein: special relativity and general relativity, proposed and published in 1905 and 1915, respectively. Special relativity applies to all physical phenomena in the absence of gravity. General relativity explains the law of\""
   ]
  },
  {
   "cell_type": "code",
   "execution_count": 3,
   "id": "195027b0",
   "metadata": {},
   "outputs": [
    {
     "data": {
      "text/plain": [
       "['The',\n",
       " 'theory',\n",
       " 'of',\n",
       " 'relativity',\n",
       " 'usually',\n",
       " 'encompasses',\n",
       " 'two',\n",
       " 'interrelated',\n",
       " 'theories',\n",
       " 'by']"
      ]
     },
     "execution_count": 3,
     "metadata": {},
     "output_type": "execute_result"
    }
   ],
   "source": [
    "sample_tokens = word_tokenize(sample)\n",
    "sample_tokens[:10]"
   ]
  },
  {
   "cell_type": "code",
   "execution_count": 4,
   "id": "3aca2f6a",
   "metadata": {},
   "outputs": [
    {
     "data": {
      "text/plain": [
       "[[('The', 'DT')],\n",
       " [('theory', 'NN')],\n",
       " [('of', 'IN')],\n",
       " [('relativity', 'NN')],\n",
       " [('usually', 'RB')],\n",
       " [('encompasses', 'NNS')],\n",
       " [('two', 'CD')],\n",
       " [('interrelated', 'VBN')],\n",
       " [('theories', 'NNS')],\n",
       " [('by', 'IN')],\n",
       " [('Albert', 'NNP')],\n",
       " [('Einstein', 'NN')],\n",
       " [(':', ':')],\n",
       " [('special', 'JJ')],\n",
       " [('relativity', 'NN')],\n",
       " [('and', 'CC')],\n",
       " [('general', 'JJ')],\n",
       " [('relativity', 'NN')],\n",
       " [(',', ',')],\n",
       " [('proposed', 'VBN')],\n",
       " [('and', 'CC')],\n",
       " [('published', 'VBN')],\n",
       " [('in', 'IN')],\n",
       " [('1905', 'CD')],\n",
       " [('and', 'CC')],\n",
       " [('1915', 'CD')],\n",
       " [(',', ',')],\n",
       " [('respectively', 'RB')],\n",
       " [('.', '.')],\n",
       " [('Special', 'JJ')],\n",
       " [('relativity', 'NN')],\n",
       " [('applies', 'NNS')],\n",
       " [('to', 'TO')],\n",
       " [('all', 'DT')],\n",
       " [('physical', 'JJ')],\n",
       " [('phenomena', 'NN')],\n",
       " [('in', 'IN')],\n",
       " [('the', 'DT')],\n",
       " [('absence', 'NN')],\n",
       " [('of', 'IN')],\n",
       " [('gravity', 'NN')],\n",
       " [('.', '.')],\n",
       " [('General', 'NNP')],\n",
       " [('relativity', 'NN')],\n",
       " [('explains', 'NNS')],\n",
       " [('the', 'DT')],\n",
       " [('law', 'NN')],\n",
       " [('of', 'IN')]]"
      ]
     },
     "execution_count": 4,
     "metadata": {},
     "output_type": "execute_result"
    }
   ],
   "source": [
    "sample_pos = [nltk.pos_tag([token]) for token in sample_tokens]\n",
    "sample_pos"
   ]
  },
  {
   "cell_type": "code",
   "execution_count": 5,
   "id": "68e0a080",
   "metadata": {},
   "outputs": [
    {
     "name": "stderr",
     "output_type": "stream",
     "text": [
      "[nltk_data] Downloading package maxent_ne_chunker to\n",
      "[nltk_data]     C:\\Users\\harsh\\AppData\\Roaming\\nltk_data...\n",
      "[nltk_data]   Package maxent_ne_chunker is already up-to-date!\n",
      "[nltk_data] Downloading package words to\n",
      "[nltk_data]     C:\\Users\\harsh\\AppData\\Roaming\\nltk_data...\n",
      "[nltk_data]   Package words is already up-to-date!\n"
     ]
    },
    {
     "name": "stdout",
     "output_type": "stream",
     "text": [
      "(S The/DT)\n",
      "(S theory/NN)\n",
      "(S of/IN)\n",
      "(S relativity/NN)\n",
      "(S usually/RB)\n",
      "(S encompasses/NNS)\n",
      "(S two/CD)\n",
      "(S interrelated/VBN)\n",
      "(S theories/NNS)\n",
      "(S by/IN)\n",
      "(S (PERSON Albert/NNP))\n",
      "(S (GPE Einstein/NN))\n",
      "(S :/:)\n",
      "(S special/JJ)\n",
      "(S relativity/NN)\n",
      "(S and/CC)\n",
      "(S general/JJ)\n",
      "(S relativity/NN)\n",
      "(S ,/,)\n",
      "(S proposed/VBN)\n",
      "(S and/CC)\n",
      "(S published/VBN)\n",
      "(S in/IN)\n",
      "(S 1905/CD)\n",
      "(S and/CC)\n",
      "(S 1915/CD)\n",
      "(S ,/,)\n",
      "(S respectively/RB)\n",
      "(S ./.)\n",
      "(S Special/JJ)\n",
      "(S relativity/NN)\n",
      "(S applies/NNS)\n",
      "(S to/TO)\n",
      "(S all/DT)\n",
      "(S physical/JJ)\n",
      "(S phenomena/NN)\n",
      "(S in/IN)\n",
      "(S the/DT)\n",
      "(S absence/NN)\n",
      "(S of/IN)\n",
      "(S gravity/NN)\n",
      "(S ./.)\n",
      "(S General/NNP)\n",
      "(S relativity/NN)\n",
      "(S explains/NNS)\n",
      "(S the/DT)\n",
      "(S law/NN)\n",
      "(S of/IN)\n"
     ]
    }
   ],
   "source": [
    "nltk.download('maxent_ne_chunker')\n",
    "nltk.download('words')\n",
    "from nltk.chunk import ne_chunk\n",
    "for item in sample_pos:\n",
    "  print(ne_chunk(item))"
   ]
  },
  {
   "cell_type": "code",
   "execution_count": 6,
   "id": "d37c1223",
   "metadata": {},
   "outputs": [
    {
     "name": "stderr",
     "output_type": "stream",
     "text": [
      "c:\\users\\harsh\\appdata\\local\\programs\\python\\python38\\lib\\site-packages\\requests\\__init__.py:89: RequestsDependencyWarning: urllib3 (1.26.9) or chardet (3.0.4) doesn't match a supported version!\n",
      "  warnings.warn(\"urllib3 ({}) or chardet ({}) doesn't match a supported \"\n"
     ]
    }
   ],
   "source": [
    "import spacy\n",
    "nlp = spacy.load('en_core_web_sm')"
   ]
  },
  {
   "cell_type": "code",
   "execution_count": 7,
   "id": "ba5534a8",
   "metadata": {},
   "outputs": [
    {
     "name": "stdout",
     "output_type": "stream",
     "text": [
      "two CARDINAL\n",
      "Albert Einstein PERSON\n",
      "1905 DATE\n",
      "1915 DATE\n"
     ]
    }
   ],
   "source": [
    "sample_doc = nlp((sample))\n",
    "\n",
    "for ent in sample_doc.ents:\n",
    "  print(ent.text, ent.label_)"
   ]
  },
  {
   "cell_type": "code",
   "execution_count": null,
   "id": "19a79db4",
   "metadata": {},
   "outputs": [],
   "source": []
  }
 ],
 "metadata": {
  "kernelspec": {
   "display_name": "Python 3 (ipykernel)",
   "language": "python",
   "name": "python3"
  },
  "language_info": {
   "codemirror_mode": {
    "name": "ipython",
    "version": 3
   },
   "file_extension": ".py",
   "mimetype": "text/x-python",
   "name": "python",
   "nbconvert_exporter": "python",
   "pygments_lexer": "ipython3",
   "version": "3.8.0"
  }
 },
 "nbformat": 4,
 "nbformat_minor": 5
}
