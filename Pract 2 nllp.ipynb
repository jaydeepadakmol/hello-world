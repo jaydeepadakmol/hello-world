{
 "cells": [
  {
   "cell_type": "code",
   "execution_count": 1,
   "id": "6a7bb9ca",
   "metadata": {},
   "outputs": [
    {
     "name": "stderr",
     "output_type": "stream",
     "text": [
      "[nltk_data] Downloading package wordnet to\n",
      "[nltk_data]     C:\\Users\\harsh\\AppData\\Roaming\\nltk_data...\n",
      "[nltk_data]   Package wordnet is already up-to-date!\n",
      "[nltk_data] Downloading package punkt to\n",
      "[nltk_data]     C:\\Users\\harsh\\AppData\\Roaming\\nltk_data...\n",
      "[nltk_data]   Package punkt is already up-to-date!\n",
      "[nltk_data] Downloading package averaged_perceptron_tagger to\n",
      "[nltk_data]     C:\\Users\\harsh\\AppData\\Roaming\\nltk_data...\n",
      "[nltk_data]   Package averaged_perceptron_tagger is already up-to-\n",
      "[nltk_data]       date!\n"
     ]
    }
   ],
   "source": [
    "import nltk\n",
    "nltk.download('wordnet')\n",
    "nltk.download('punkt')\n",
    "nltk.download('averaged_perceptron_tagger')\n",
    "from nltk.tokenize import word_tokenize"
   ]
  },
  {
   "cell_type": "code",
   "execution_count": 2,
   "id": "4f55fb54",
   "metadata": {},
   "outputs": [],
   "source": [
    "sample = \"The theory of relativity usually encompasses two interrelated theories by Albert Einstein: special relativity and general relativity, proposed and published in 1905 and 1915, respectively. Special relativity applies to all physical phenomena in the absence of gravity. General relativity explains the law of\""
   ]
  },
  {
   "cell_type": "code",
   "execution_count": 3,
   "id": "e39514b2",
   "metadata": {},
   "outputs": [
    {
     "data": {
      "text/plain": [
       "['The',\n",
       " 'theory',\n",
       " 'of',\n",
       " 'relativity',\n",
       " 'usually',\n",
       " 'encompasses',\n",
       " 'two',\n",
       " 'interrelated',\n",
       " 'theories',\n",
       " 'by']"
      ]
     },
     "execution_count": 3,
     "metadata": {},
     "output_type": "execute_result"
    }
   ],
   "source": [
    "sample_tokens = word_tokenize(sample)\n",
    "sample_tokens[:10]"
   ]
  },
  {
   "cell_type": "code",
   "execution_count": 4,
   "id": "8611707a",
   "metadata": {},
   "outputs": [
    {
     "name": "stdout",
     "output_type": "stream",
     "text": [
      "[('The', 'DT')]\n",
      "[('theory', 'NN')]\n",
      "[('of', 'IN')]\n",
      "[('relativity', 'NN')]\n",
      "[('usually', 'RB')]\n",
      "[('encompasses', 'NNS')]\n",
      "[('two', 'CD')]\n",
      "[('interrelated', 'VBN')]\n",
      "[('theories', 'NNS')]\n",
      "[('by', 'IN')]\n",
      "[('Albert', 'NNP')]\n",
      "[('Einstein', 'NN')]\n",
      "[(':', ':')]\n",
      "[('special', 'JJ')]\n",
      "[('relativity', 'NN')]\n",
      "[('and', 'CC')]\n",
      "[('general', 'JJ')]\n",
      "[('relativity', 'NN')]\n",
      "[(',', ',')]\n",
      "[('proposed', 'VBN')]\n",
      "[('and', 'CC')]\n",
      "[('published', 'VBN')]\n",
      "[('in', 'IN')]\n",
      "[('1905', 'CD')]\n",
      "[('and', 'CC')]\n",
      "[('1915', 'CD')]\n",
      "[(',', ',')]\n",
      "[('respectively', 'RB')]\n",
      "[('.', '.')]\n",
      "[('Special', 'JJ')]\n",
      "[('relativity', 'NN')]\n",
      "[('applies', 'NNS')]\n",
      "[('to', 'TO')]\n",
      "[('all', 'DT')]\n",
      "[('physical', 'JJ')]\n",
      "[('phenomena', 'NN')]\n",
      "[('in', 'IN')]\n",
      "[('the', 'DT')]\n",
      "[('absence', 'NN')]\n",
      "[('of', 'IN')]\n",
      "[('gravity', 'NN')]\n",
      "[('.', '.')]\n",
      "[('General', 'NNP')]\n",
      "[('relativity', 'NN')]\n",
      "[('explains', 'NNS')]\n",
      "[('the', 'DT')]\n",
      "[('law', 'NN')]\n",
      "[('of', 'IN')]\n"
     ]
    }
   ],
   "source": [
    "for token in sample_tokens:\n",
    "  print(nltk.pos_tag([token]))"
   ]
  },
  {
   "cell_type": "code",
   "execution_count": 5,
   "id": "71b02068",
   "metadata": {},
   "outputs": [
    {
     "name": "stderr",
     "output_type": "stream",
     "text": [
      "c:\\users\\harsh\\appdata\\local\\programs\\python\\python38\\lib\\site-packages\\requests\\__init__.py:89: RequestsDependencyWarning: urllib3 (1.26.9) or chardet (3.0.4) doesn't match a supported version!\n",
      "  warnings.warn(\"urllib3 ({}) or chardet ({}) doesn't match a supported \"\n"
     ]
    }
   ],
   "source": [
    "import spacy\n",
    "nlp = spacy.load('en_core_web_sm')"
   ]
  },
  {
   "cell_type": "code",
   "execution_count": 7,
   "id": "cf075f3e",
   "metadata": {},
   "outputs": [
    {
     "name": "stdout",
     "output_type": "stream",
     "text": [
      "0 The DET\n",
      "1 theory NOUN\n",
      "2 of ADP\n",
      "3 relativity NOUN\n",
      "4 usually ADV\n",
      "5 encompasses VERB\n",
      "6 two NUM\n",
      "7 interrelated ADJ\n",
      "8 theories NOUN\n",
      "9 by ADP\n",
      "10 Albert PROPN\n",
      "11 Einstein PROPN\n",
      "12 : PUNCT\n",
      "13 special ADJ\n",
      "14 relativity NOUN\n",
      "15 and CCONJ\n",
      "16 general ADJ\n",
      "17 relativity NOUN\n",
      "18 , PUNCT\n",
      "19 proposed VERB\n",
      "20 and CCONJ\n",
      "21 published VERB\n",
      "22 in ADP\n",
      "23 1905 NUM\n",
      "24 and CCONJ\n",
      "25 1915 NUM\n",
      "26 , PUNCT\n",
      "27 respectively ADV\n",
      "28 . PUNCT\n",
      "29 Special ADJ\n",
      "30 relativity NOUN\n",
      "31 applies VERB\n",
      "32 to ADP\n",
      "33 all DET\n",
      "34 physical ADJ\n",
      "35 phenomena NOUN\n",
      "36 in ADP\n",
      "37 the DET\n",
      "38 absence NOUN\n",
      "39 of ADP\n",
      "40 gravity NOUN\n",
      "41 . PUNCT\n",
      "42 General ADJ\n",
      "43 relativity NOUN\n",
      "44 explains VERB\n",
      "45 the DET\n",
      "46 law NOUN\n",
      "47 of ADP\n"
     ]
    }
   ],
   "source": [
    "sample_doc = nlp(sample)\n",
    "for token in sample_doc:\n",
    "  print(token.i, token.text, token.pos_)"
   ]
  },
  {
   "cell_type": "code",
   "execution_count": null,
   "id": "ece8c3b1",
   "metadata": {},
   "outputs": [],
   "source": []
  }
 ],
 "metadata": {
  "kernelspec": {
   "display_name": "Python 3 (ipykernel)",
   "language": "python",
   "name": "python3"
  },
  "language_info": {
   "codemirror_mode": {
    "name": "ipython",
    "version": 3
   },
   "file_extension": ".py",
   "mimetype": "text/x-python",
   "name": "python",
   "nbconvert_exporter": "python",
   "pygments_lexer": "ipython3",
   "version": "3.8.0"
  }
 },
 "nbformat": 4,
 "nbformat_minor": 5
}
