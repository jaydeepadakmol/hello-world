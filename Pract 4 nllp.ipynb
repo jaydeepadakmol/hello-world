{
 "cells": [
  {
   "cell_type": "code",
   "execution_count": 1,
   "id": "191536cd",
   "metadata": {},
   "outputs": [
    {
     "name": "stderr",
     "output_type": "stream",
     "text": [
      "[nltk_data] Downloading package punkt to\n",
      "[nltk_data]     C:\\Users\\harsh\\AppData\\Roaming\\nltk_data...\n",
      "[nltk_data]   Package punkt is already up-to-date!\n"
     ]
    }
   ],
   "source": [
    "import nltk\n",
    "nltk.download('punkt')\n",
    "import nltk.corpus\n",
    "from nltk.tokenize import word_tokenize"
   ]
  },
  {
   "cell_type": "code",
   "execution_count": 2,
   "id": "d803b3f1",
   "metadata": {},
   "outputs": [],
   "source": [
    "sample = \"The theory of relativity usually encompasses two interrelated theories by Albert Einstein: special relativity and general relativity, proposed and published in 1905 and 1915, respectively. Special relativity applies to all physical phenomena in the absence of gravity. General relativity explains the law of\""
   ]
  },
  {
   "cell_type": "code",
   "execution_count": 3,
   "id": "4b6f51e2",
   "metadata": {},
   "outputs": [
    {
     "data": {
      "text/plain": [
       "['The',\n",
       " 'theory',\n",
       " 'of',\n",
       " 'relativity',\n",
       " 'usually',\n",
       " 'encompasses',\n",
       " 'two',\n",
       " 'interrelated',\n",
       " 'theories',\n",
       " 'by',\n",
       " 'Albert',\n",
       " 'Einstein',\n",
       " ':',\n",
       " 'special',\n",
       " 'relativity',\n",
       " 'and',\n",
       " 'general',\n",
       " 'relativity',\n",
       " ',',\n",
       " 'proposed',\n",
       " 'and',\n",
       " 'published',\n",
       " 'in',\n",
       " '1905',\n",
       " 'and',\n",
       " '1915',\n",
       " ',',\n",
       " 'respectively',\n",
       " '.',\n",
       " 'Special',\n",
       " 'relativity',\n",
       " 'applies',\n",
       " 'to',\n",
       " 'all',\n",
       " 'physical',\n",
       " 'phenomena',\n",
       " 'in',\n",
       " 'the',\n",
       " 'absence',\n",
       " 'of',\n",
       " 'gravity',\n",
       " '.',\n",
       " 'General',\n",
       " 'relativity',\n",
       " 'explains',\n",
       " 'the',\n",
       " 'law',\n",
       " 'of']"
      ]
     },
     "execution_count": 3,
     "metadata": {},
     "output_type": "execute_result"
    }
   ],
   "source": [
    "sample_tokens = word_tokenize(sample)\n",
    "sample_tokens"
   ]
  },
  {
   "cell_type": "code",
   "execution_count": 4,
   "id": "d94477fa",
   "metadata": {},
   "outputs": [],
   "source": [
    "from nltk.stem import PorterStemmer\n",
    "pst = PorterStemmer()"
   ]
  },
  {
   "cell_type": "code",
   "execution_count": 6,
   "id": "4f1e901b",
   "metadata": {},
   "outputs": [
    {
     "name": "stdout",
     "output_type": "stream",
     "text": [
      "The  ==>  the\n",
      "theory  ==>  theori\n",
      "of  ==>  of\n",
      "relativity  ==>  rel\n",
      "usually  ==>  usual\n",
      "encompasses  ==>  encompass\n",
      "two  ==>  two\n",
      "interrelated  ==>  interrel\n",
      "theories  ==>  theori\n",
      "by  ==>  by\n",
      "Albert  ==>  albert\n",
      "Einstein  ==>  einstein\n",
      ":  ==>  :\n",
      "special  ==>  special\n",
      "relativity  ==>  rel\n",
      "and  ==>  and\n",
      "general  ==>  gener\n",
      "relativity  ==>  rel\n",
      ",  ==>  ,\n",
      "proposed  ==>  propos\n",
      "and  ==>  and\n",
      "published  ==>  publish\n",
      "in  ==>  in\n",
      "1905  ==>  1905\n",
      "and  ==>  and\n",
      "1915  ==>  1915\n",
      ",  ==>  ,\n",
      "respectively  ==>  respect\n",
      ".  ==>  .\n",
      "Special  ==>  special\n",
      "relativity  ==>  rel\n",
      "applies  ==>  appli\n",
      "to  ==>  to\n",
      "all  ==>  all\n",
      "physical  ==>  physic\n",
      "phenomena  ==>  phenomena\n",
      "in  ==>  in\n",
      "the  ==>  the\n",
      "absence  ==>  absenc\n",
      "of  ==>  of\n",
      "gravity  ==>  graviti\n",
      ".  ==>  .\n",
      "General  ==>  gener\n",
      "relativity  ==>  rel\n",
      "explains  ==>  explain\n",
      "the  ==>  the\n",
      "law  ==>  law\n",
      "of  ==>  of\n"
     ]
    }
   ],
   "source": [
    "for token in sample_tokens:\n",
    "  print(token, \" ==> \", pst.stem(token))"
   ]
  },
  {
   "cell_type": "code",
   "execution_count": 7,
   "id": "764fdfc7",
   "metadata": {},
   "outputs": [
    {
     "name": "stderr",
     "output_type": "stream",
     "text": [
      "[nltk_data] Downloading package wordnet to\n",
      "[nltk_data]     C:\\Users\\harsh\\AppData\\Roaming\\nltk_data...\n",
      "[nltk_data]   Package wordnet is already up-to-date!\n"
     ]
    }
   ],
   "source": [
    "nltk.download('wordnet')\n",
    "from nltk.stem import wordnet\n",
    "from nltk.stem import WordNetLemmatizer\n",
    "\n",
    "lemmatizer = WordNetLemmatizer()"
   ]
  },
  {
   "cell_type": "code",
   "execution_count": 9,
   "id": "bb104e77",
   "metadata": {},
   "outputs": [
    {
     "name": "stdout",
     "output_type": "stream",
     "text": [
      "The -> The\n",
      "theories -> theory\n",
      "Albert -> Albert\n",
      "Einstein -> Einstein\n",
      "Special -> Special\n",
      "phenomena -> phenomenon\n",
      "General -> General\n"
     ]
    }
   ],
   "source": [
    "\n",
    "for token in sample_tokens:\n",
    "  if token.lower() == lemmatizer.lemmatize(token):\n",
    "    continue\n",
    "  print(token + \" -> \" + lemmatizer.lemmatize(token))"
   ]
  },
  {
   "cell_type": "code",
   "execution_count": null,
   "id": "5a98c201",
   "metadata": {},
   "outputs": [],
   "source": []
  }
 ],
 "metadata": {
  "kernelspec": {
   "display_name": "Python 3 (ipykernel)",
   "language": "python",
   "name": "python3"
  },
  "language_info": {
   "codemirror_mode": {
    "name": "ipython",
    "version": 3
   },
   "file_extension": ".py",
   "mimetype": "text/x-python",
   "name": "python",
   "nbconvert_exporter": "python",
   "pygments_lexer": "ipython3",
   "version": "3.8.0"
  }
 },
 "nbformat": 4,
 "nbformat_minor": 5
}
